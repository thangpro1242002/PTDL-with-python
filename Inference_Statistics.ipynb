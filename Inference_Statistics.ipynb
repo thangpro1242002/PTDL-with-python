{
  "nbformat": 4,
  "nbformat_minor": 0,
  "metadata": {
    "colab": {
      "name": "Untitled43.ipynb",
      "provenance": [],
      "authorship_tag": "ABX9TyMtqpSlTBhykQTS2u28XlCV",
      "include_colab_link": true
    },
    "kernelspec": {
      "name": "python3",
      "display_name": "Python 3"
    },
    "language_info": {
      "name": "python"
    }
  },
  "cells": [
    {
      "cell_type": "markdown",
      "metadata": {
        "id": "view-in-github",
        "colab_type": "text"
      },
      "source": [
        "<a href=\"https://colab.research.google.com/github/thangpro1242002/PTDL-with-python/blob/main/Inference_Statistics.ipynb\" target=\"_parent\"><img src=\"https://colab.research.google.com/assets/colab-badge.svg\" alt=\"Open In Colab\"/></a>"
      ]
    },
    {
      "cell_type": "code",
      "metadata": {
        "colab": {
          "base_uri": "https://localhost:8080/"
        },
        "id": "ydK65Jwdra69",
        "outputId": "2d4029c3-5dab-49a8-bf91-01c8460c1478"
      },
      "source": [
        "\n",
        "import numpy as np\n",
        "import pandas as pd\n",
        "import matplotlib.pyplot as plt \n",
        "import seaborn as sns\n",
        "import statsmodels\n",
        "import statsmodels.api as sm\n",
        "from statsmodels.formula.api import ols\n",
        "import scipy  \n",
        "from scipy import stats"
      ],
      "execution_count": 2,
      "outputs": [
        {
          "output_type": "stream",
          "text": [
            "/usr/local/lib/python3.7/dist-packages/statsmodels/tools/_testing.py:19: FutureWarning: pandas.util.testing is deprecated. Use the functions in the public API at pandas.testing instead.\n",
            "  import pandas.util.testing as tm\n"
          ],
          "name": "stderr"
        }
      ]
    },
    {
      "cell_type": "code",
      "metadata": {
        "colab": {
          "base_uri": "https://localhost:8080/",
          "height": 359
        },
        "id": "wuVS1NNBrk-M",
        "outputId": "bb8e1d9f-790e-4c32-b3e1-063c9f578a14"
      },
      "source": [
        "data = pd.read_csv(\"Diet_R.csv\")\n",
        "data.head(10)"
      ],
      "execution_count": 4,
      "outputs": [
        {
          "output_type": "execute_result",
          "data": {
            "text/html": [
              "<div>\n",
              "<style scoped>\n",
              "    .dataframe tbody tr th:only-of-type {\n",
              "        vertical-align: middle;\n",
              "    }\n",
              "\n",
              "    .dataframe tbody tr th {\n",
              "        vertical-align: top;\n",
              "    }\n",
              "\n",
              "    .dataframe thead th {\n",
              "        text-align: right;\n",
              "    }\n",
              "</style>\n",
              "<table border=\"1\" class=\"dataframe\">\n",
              "  <thead>\n",
              "    <tr style=\"text-align: right;\">\n",
              "      <th></th>\n",
              "      <th>Person</th>\n",
              "      <th>gender</th>\n",
              "      <th>Age</th>\n",
              "      <th>Height</th>\n",
              "      <th>pre.weight</th>\n",
              "      <th>Diet</th>\n",
              "      <th>weight6weeks</th>\n",
              "    </tr>\n",
              "  </thead>\n",
              "  <tbody>\n",
              "    <tr>\n",
              "      <th>0</th>\n",
              "      <td>25</td>\n",
              "      <td>NaN</td>\n",
              "      <td>41</td>\n",
              "      <td>171</td>\n",
              "      <td>60</td>\n",
              "      <td>2</td>\n",
              "      <td>60.0</td>\n",
              "    </tr>\n",
              "    <tr>\n",
              "      <th>1</th>\n",
              "      <td>26</td>\n",
              "      <td>NaN</td>\n",
              "      <td>32</td>\n",
              "      <td>174</td>\n",
              "      <td>103</td>\n",
              "      <td>2</td>\n",
              "      <td>103.0</td>\n",
              "    </tr>\n",
              "    <tr>\n",
              "      <th>2</th>\n",
              "      <td>1</td>\n",
              "      <td>0.0</td>\n",
              "      <td>22</td>\n",
              "      <td>159</td>\n",
              "      <td>58</td>\n",
              "      <td>1</td>\n",
              "      <td>54.2</td>\n",
              "    </tr>\n",
              "    <tr>\n",
              "      <th>3</th>\n",
              "      <td>2</td>\n",
              "      <td>0.0</td>\n",
              "      <td>46</td>\n",
              "      <td>192</td>\n",
              "      <td>60</td>\n",
              "      <td>1</td>\n",
              "      <td>54.0</td>\n",
              "    </tr>\n",
              "    <tr>\n",
              "      <th>4</th>\n",
              "      <td>3</td>\n",
              "      <td>0.0</td>\n",
              "      <td>55</td>\n",
              "      <td>170</td>\n",
              "      <td>64</td>\n",
              "      <td>1</td>\n",
              "      <td>63.3</td>\n",
              "    </tr>\n",
              "    <tr>\n",
              "      <th>5</th>\n",
              "      <td>4</td>\n",
              "      <td>0.0</td>\n",
              "      <td>33</td>\n",
              "      <td>171</td>\n",
              "      <td>64</td>\n",
              "      <td>1</td>\n",
              "      <td>61.1</td>\n",
              "    </tr>\n",
              "    <tr>\n",
              "      <th>6</th>\n",
              "      <td>5</td>\n",
              "      <td>0.0</td>\n",
              "      <td>50</td>\n",
              "      <td>170</td>\n",
              "      <td>65</td>\n",
              "      <td>1</td>\n",
              "      <td>62.2</td>\n",
              "    </tr>\n",
              "    <tr>\n",
              "      <th>7</th>\n",
              "      <td>6</td>\n",
              "      <td>0.0</td>\n",
              "      <td>50</td>\n",
              "      <td>201</td>\n",
              "      <td>66</td>\n",
              "      <td>1</td>\n",
              "      <td>64.0</td>\n",
              "    </tr>\n",
              "    <tr>\n",
              "      <th>8</th>\n",
              "      <td>7</td>\n",
              "      <td>0.0</td>\n",
              "      <td>37</td>\n",
              "      <td>174</td>\n",
              "      <td>67</td>\n",
              "      <td>1</td>\n",
              "      <td>65.0</td>\n",
              "    </tr>\n",
              "    <tr>\n",
              "      <th>9</th>\n",
              "      <td>8</td>\n",
              "      <td>0.0</td>\n",
              "      <td>28</td>\n",
              "      <td>176</td>\n",
              "      <td>69</td>\n",
              "      <td>1</td>\n",
              "      <td>60.5</td>\n",
              "    </tr>\n",
              "  </tbody>\n",
              "</table>\n",
              "</div>"
            ],
            "text/plain": [
              "   Person  gender  Age  Height  pre.weight  Diet  weight6weeks\n",
              "0      25     NaN   41     171          60     2          60.0\n",
              "1      26     NaN   32     174         103     2         103.0\n",
              "2       1     0.0   22     159          58     1          54.2\n",
              "3       2     0.0   46     192          60     1          54.0\n",
              "4       3     0.0   55     170          64     1          63.3\n",
              "5       4     0.0   33     171          64     1          61.1\n",
              "6       5     0.0   50     170          65     1          62.2\n",
              "7       6     0.0   50     201          66     1          64.0\n",
              "8       7     0.0   37     174          67     1          65.0\n",
              "9       8     0.0   28     176          69     1          60.5"
            ]
          },
          "metadata": {
            "tags": []
          },
          "execution_count": 4
        }
      ]
    },
    {
      "cell_type": "code",
      "metadata": {
        "colab": {
          "base_uri": "https://localhost:8080/",
          "height": 390
        },
        "id": "5PacnynmsZkM",
        "outputId": "fc56798b-fa5f-44cf-f723-a5a6b1483afe"
      },
      "source": [
        "\n",
        "# Index 25, 26 thiếu dữ liệu -> add value\n",
        "\n",
        "t = data.set_index('Person')\n",
        "t.loc[[25, 26], 'gender'] = '1'\n",
        "data_new = t.sort_index()\n",
        "data_new.head(10)"
      ],
      "execution_count": 5,
      "outputs": [
        {
          "output_type": "execute_result",
          "data": {
            "text/html": [
              "<div>\n",
              "<style scoped>\n",
              "    .dataframe tbody tr th:only-of-type {\n",
              "        vertical-align: middle;\n",
              "    }\n",
              "\n",
              "    .dataframe tbody tr th {\n",
              "        vertical-align: top;\n",
              "    }\n",
              "\n",
              "    .dataframe thead th {\n",
              "        text-align: right;\n",
              "    }\n",
              "</style>\n",
              "<table border=\"1\" class=\"dataframe\">\n",
              "  <thead>\n",
              "    <tr style=\"text-align: right;\">\n",
              "      <th></th>\n",
              "      <th>gender</th>\n",
              "      <th>Age</th>\n",
              "      <th>Height</th>\n",
              "      <th>pre.weight</th>\n",
              "      <th>Diet</th>\n",
              "      <th>weight6weeks</th>\n",
              "    </tr>\n",
              "    <tr>\n",
              "      <th>Person</th>\n",
              "      <th></th>\n",
              "      <th></th>\n",
              "      <th></th>\n",
              "      <th></th>\n",
              "      <th></th>\n",
              "      <th></th>\n",
              "    </tr>\n",
              "  </thead>\n",
              "  <tbody>\n",
              "    <tr>\n",
              "      <th>1</th>\n",
              "      <td>0</td>\n",
              "      <td>22</td>\n",
              "      <td>159</td>\n",
              "      <td>58</td>\n",
              "      <td>1</td>\n",
              "      <td>54.2</td>\n",
              "    </tr>\n",
              "    <tr>\n",
              "      <th>2</th>\n",
              "      <td>0</td>\n",
              "      <td>46</td>\n",
              "      <td>192</td>\n",
              "      <td>60</td>\n",
              "      <td>1</td>\n",
              "      <td>54.0</td>\n",
              "    </tr>\n",
              "    <tr>\n",
              "      <th>3</th>\n",
              "      <td>0</td>\n",
              "      <td>55</td>\n",
              "      <td>170</td>\n",
              "      <td>64</td>\n",
              "      <td>1</td>\n",
              "      <td>63.3</td>\n",
              "    </tr>\n",
              "    <tr>\n",
              "      <th>4</th>\n",
              "      <td>0</td>\n",
              "      <td>33</td>\n",
              "      <td>171</td>\n",
              "      <td>64</td>\n",
              "      <td>1</td>\n",
              "      <td>61.1</td>\n",
              "    </tr>\n",
              "    <tr>\n",
              "      <th>5</th>\n",
              "      <td>0</td>\n",
              "      <td>50</td>\n",
              "      <td>170</td>\n",
              "      <td>65</td>\n",
              "      <td>1</td>\n",
              "      <td>62.2</td>\n",
              "    </tr>\n",
              "    <tr>\n",
              "      <th>6</th>\n",
              "      <td>0</td>\n",
              "      <td>50</td>\n",
              "      <td>201</td>\n",
              "      <td>66</td>\n",
              "      <td>1</td>\n",
              "      <td>64.0</td>\n",
              "    </tr>\n",
              "    <tr>\n",
              "      <th>7</th>\n",
              "      <td>0</td>\n",
              "      <td>37</td>\n",
              "      <td>174</td>\n",
              "      <td>67</td>\n",
              "      <td>1</td>\n",
              "      <td>65.0</td>\n",
              "    </tr>\n",
              "    <tr>\n",
              "      <th>8</th>\n",
              "      <td>0</td>\n",
              "      <td>28</td>\n",
              "      <td>176</td>\n",
              "      <td>69</td>\n",
              "      <td>1</td>\n",
              "      <td>60.5</td>\n",
              "    </tr>\n",
              "    <tr>\n",
              "      <th>9</th>\n",
              "      <td>0</td>\n",
              "      <td>28</td>\n",
              "      <td>165</td>\n",
              "      <td>70</td>\n",
              "      <td>1</td>\n",
              "      <td>68.1</td>\n",
              "    </tr>\n",
              "    <tr>\n",
              "      <th>10</th>\n",
              "      <td>0</td>\n",
              "      <td>45</td>\n",
              "      <td>165</td>\n",
              "      <td>70</td>\n",
              "      <td>1</td>\n",
              "      <td>66.9</td>\n",
              "    </tr>\n",
              "  </tbody>\n",
              "</table>\n",
              "</div>"
            ],
            "text/plain": [
              "       gender  Age  Height  pre.weight  Diet  weight6weeks\n",
              "Person                                                    \n",
              "1           0   22     159          58     1          54.2\n",
              "2           0   46     192          60     1          54.0\n",
              "3           0   55     170          64     1          63.3\n",
              "4           0   33     171          64     1          61.1\n",
              "5           0   50     170          65     1          62.2\n",
              "6           0   50     201          66     1          64.0\n",
              "7           0   37     174          67     1          65.0\n",
              "8           0   28     176          69     1          60.5\n",
              "9           0   28     165          70     1          68.1\n",
              "10          0   45     165          70     1          66.9"
            ]
          },
          "metadata": {
            "tags": []
          },
          "execution_count": 5
        }
      ]
    },
    {
      "cell_type": "code",
      "metadata": {
        "colab": {
          "base_uri": "https://localhost:8080/"
        },
        "id": "54LyMmCVuuv9",
        "outputId": "58ebb68b-d79a-45e8-d52c-d771b17ed5ad"
      },
      "source": [
        "# Kiểm tra đã giảm cân chưa\n",
        "'''Phát biểu giả thuyết:\n",
        "H0:Cân nặng trung bình của trước và sau khi giảm cân là như nhau\n",
        "H1:Cân nặng trung bình của trước và sau khi giảm cân khác nhau\n",
        "'''\n",
        "pre_w = data_new['pre.weight']\n",
        "aft_w = data_new['weight6weeks']\n",
        "std1, p1 = scipy.stats.ttest_ind(pre_w, aft_w)\n",
        "print(std1, p1)\n",
        "print(\"-\"*50)\n",
        "alpha = 0.05\n",
        "if p1 < alpha:\n",
        "    print('Có đủ bằng chứng để bác bỏ giả thuyết H0. Điều này ngụ ý rằng cân nặng trước và sau khi giảm cân là có sự khác biệt.')\n",
        "else:\n",
        "    print('Không đủ bằng chứng để bác bỏ giả thiết H0. Điều này ngụ ý rằng cân nặng trước và sau khi giảm cân không có sự khác biệt')"
      ],
      "execution_count": 6,
      "outputs": [
        {
          "output_type": "stream",
          "text": [
            "2.720972750635475 0.0072584136689251115\n",
            "--------------------------------------------------\n",
            "Có đủ bằng chứng để bác bỏ giả thuyết H0. Điều này ngụ ý rằng cân nặng trước và sau khi giảm cân là có sự khác biệt.\n"
          ],
          "name": "stdout"
        }
      ]
    },
    {
      "cell_type": "markdown",
      "metadata": {
        "id": "PioT-MCmhDdW"
      },
      "source": [
        "#Loại bỏ trọng lượng đã mất và yêu cầu học sinh tính toán bằng cách sử dụng trọng lượng trước / sau"
      ]
    },
    {
      "cell_type": "code",
      "metadata": {
        "colab": {
          "base_uri": "https://localhost:8080/"
        },
        "id": "XtDEx1bthQ_M",
        "outputId": "61d405ba-b1b0-49a6-84a7-8e9aed55bc74"
      },
      "source": [
        "\n",
        "# Chỉ số cân nặng đã được giảm decrease_weight \n",
        "\n",
        "dec_w = pre_w - aft_w\n",
        "dec_w"
      ],
      "execution_count": 7,
      "outputs": [
        {
          "output_type": "execute_result",
          "data": {
            "text/plain": [
              "Person\n",
              "1     3.8\n",
              "2     6.0\n",
              "3     0.7\n",
              "4     2.9\n",
              "5     2.8\n",
              "     ... \n",
              "74    2.8\n",
              "75    4.1\n",
              "76    5.3\n",
              "77    9.2\n",
              "78    6.1\n",
              "Length: 78, dtype: float64"
            ]
          },
          "metadata": {
            "tags": []
          },
          "execution_count": 7
        }
      ]
    },
    {
      "cell_type": "code",
      "metadata": {
        "colab": {
          "base_uri": "https://localhost:8080/",
          "height": 450
        },
        "id": "Va_DO-bvhjMG",
        "outputId": "2128cbf4-794e-412c-be38-228f5952804f"
      },
      "source": [
        "\n",
        "pop = data_new.pop('pre.weight')\n",
        "data_new.insert(4, \"pre.weight\", pop)\n",
        "data_new.insert(6, 'dec_weight', dec_w) \n",
        "data_new"
      ],
      "execution_count": 8,
      "outputs": [
        {
          "output_type": "execute_result",
          "data": {
            "text/html": [
              "<div>\n",
              "<style scoped>\n",
              "    .dataframe tbody tr th:only-of-type {\n",
              "        vertical-align: middle;\n",
              "    }\n",
              "\n",
              "    .dataframe tbody tr th {\n",
              "        vertical-align: top;\n",
              "    }\n",
              "\n",
              "    .dataframe thead th {\n",
              "        text-align: right;\n",
              "    }\n",
              "</style>\n",
              "<table border=\"1\" class=\"dataframe\">\n",
              "  <thead>\n",
              "    <tr style=\"text-align: right;\">\n",
              "      <th></th>\n",
              "      <th>gender</th>\n",
              "      <th>Age</th>\n",
              "      <th>Height</th>\n",
              "      <th>Diet</th>\n",
              "      <th>pre.weight</th>\n",
              "      <th>weight6weeks</th>\n",
              "      <th>dec_weight</th>\n",
              "    </tr>\n",
              "    <tr>\n",
              "      <th>Person</th>\n",
              "      <th></th>\n",
              "      <th></th>\n",
              "      <th></th>\n",
              "      <th></th>\n",
              "      <th></th>\n",
              "      <th></th>\n",
              "      <th></th>\n",
              "    </tr>\n",
              "  </thead>\n",
              "  <tbody>\n",
              "    <tr>\n",
              "      <th>1</th>\n",
              "      <td>0</td>\n",
              "      <td>22</td>\n",
              "      <td>159</td>\n",
              "      <td>1</td>\n",
              "      <td>58</td>\n",
              "      <td>54.2</td>\n",
              "      <td>3.8</td>\n",
              "    </tr>\n",
              "    <tr>\n",
              "      <th>2</th>\n",
              "      <td>0</td>\n",
              "      <td>46</td>\n",
              "      <td>192</td>\n",
              "      <td>1</td>\n",
              "      <td>60</td>\n",
              "      <td>54.0</td>\n",
              "      <td>6.0</td>\n",
              "    </tr>\n",
              "    <tr>\n",
              "      <th>3</th>\n",
              "      <td>0</td>\n",
              "      <td>55</td>\n",
              "      <td>170</td>\n",
              "      <td>1</td>\n",
              "      <td>64</td>\n",
              "      <td>63.3</td>\n",
              "      <td>0.7</td>\n",
              "    </tr>\n",
              "    <tr>\n",
              "      <th>4</th>\n",
              "      <td>0</td>\n",
              "      <td>33</td>\n",
              "      <td>171</td>\n",
              "      <td>1</td>\n",
              "      <td>64</td>\n",
              "      <td>61.1</td>\n",
              "      <td>2.9</td>\n",
              "    </tr>\n",
              "    <tr>\n",
              "      <th>5</th>\n",
              "      <td>0</td>\n",
              "      <td>50</td>\n",
              "      <td>170</td>\n",
              "      <td>1</td>\n",
              "      <td>65</td>\n",
              "      <td>62.2</td>\n",
              "      <td>2.8</td>\n",
              "    </tr>\n",
              "    <tr>\n",
              "      <th>...</th>\n",
              "      <td>...</td>\n",
              "      <td>...</td>\n",
              "      <td>...</td>\n",
              "      <td>...</td>\n",
              "      <td>...</td>\n",
              "      <td>...</td>\n",
              "      <td>...</td>\n",
              "    </tr>\n",
              "    <tr>\n",
              "      <th>74</th>\n",
              "      <td>1</td>\n",
              "      <td>35</td>\n",
              "      <td>183</td>\n",
              "      <td>3</td>\n",
              "      <td>83</td>\n",
              "      <td>80.2</td>\n",
              "      <td>2.8</td>\n",
              "    </tr>\n",
              "    <tr>\n",
              "      <th>75</th>\n",
              "      <td>1</td>\n",
              "      <td>49</td>\n",
              "      <td>177</td>\n",
              "      <td>3</td>\n",
              "      <td>84</td>\n",
              "      <td>79.9</td>\n",
              "      <td>4.1</td>\n",
              "    </tr>\n",
              "    <tr>\n",
              "      <th>76</th>\n",
              "      <td>1</td>\n",
              "      <td>28</td>\n",
              "      <td>164</td>\n",
              "      <td>3</td>\n",
              "      <td>85</td>\n",
              "      <td>79.7</td>\n",
              "      <td>5.3</td>\n",
              "    </tr>\n",
              "    <tr>\n",
              "      <th>77</th>\n",
              "      <td>1</td>\n",
              "      <td>40</td>\n",
              "      <td>167</td>\n",
              "      <td>3</td>\n",
              "      <td>87</td>\n",
              "      <td>77.8</td>\n",
              "      <td>9.2</td>\n",
              "    </tr>\n",
              "    <tr>\n",
              "      <th>78</th>\n",
              "      <td>1</td>\n",
              "      <td>51</td>\n",
              "      <td>175</td>\n",
              "      <td>3</td>\n",
              "      <td>88</td>\n",
              "      <td>81.9</td>\n",
              "      <td>6.1</td>\n",
              "    </tr>\n",
              "  </tbody>\n",
              "</table>\n",
              "<p>78 rows × 7 columns</p>\n",
              "</div>"
            ],
            "text/plain": [
              "       gender  Age  Height  Diet  pre.weight  weight6weeks  dec_weight\n",
              "Person                                                                \n",
              "1           0   22     159     1          58          54.2         3.8\n",
              "2           0   46     192     1          60          54.0         6.0\n",
              "3           0   55     170     1          64          63.3         0.7\n",
              "4           0   33     171     1          64          61.1         2.9\n",
              "5           0   50     170     1          65          62.2         2.8\n",
              "...       ...  ...     ...   ...         ...           ...         ...\n",
              "74          1   35     183     3          83          80.2         2.8\n",
              "75          1   49     177     3          84          79.9         4.1\n",
              "76          1   28     164     3          85          79.7         5.3\n",
              "77          1   40     167     3          87          77.8         9.2\n",
              "78          1   51     175     3          88          81.9         6.1\n",
              "\n",
              "[78 rows x 7 columns]"
            ]
          },
          "metadata": {
            "tags": []
          },
          "execution_count": 8
        }
      ]
    },
    {
      "cell_type": "markdown",
      "metadata": {
        "id": "QYs8ciTMiiwu"
      },
      "source": [
        "# Chế độ ăn kiêng nào là tốt nhất để giảm cân?"
      ]
    },
    {
      "cell_type": "markdown",
      "metadata": {
        "id": "GqpPOfQ-oMaO"
      },
      "source": [
        "# Phát biểu giả thuyết:\n",
        "$H_0: \\mu_1 = \\mu_2 = \\mu_3$\n",
        "\n",
        "$H_1: \\mu_i \\neq \\mu_j$ (i $\\neq$ j , i, j $\\in \\overline{1,3}$)"
      ]
    },
    {
      "cell_type": "code",
      "metadata": {
        "colab": {
          "base_uri": "https://localhost:8080/",
          "height": 450
        },
        "id": "QC3Hd3r8oYCW",
        "outputId": "b6d17fa7-623d-47f8-9fe2-06a5b204484e"
      },
      "source": [
        "\n",
        "# Lấy slice data gồm \"Diet\" và \"dec_weight\" để phân tích \n",
        "\n",
        "data4 = data_new[['Diet', 'dec_weight']]\n",
        "data4"
      ],
      "execution_count": 9,
      "outputs": [
        {
          "output_type": "execute_result",
          "data": {
            "text/html": [
              "<div>\n",
              "<style scoped>\n",
              "    .dataframe tbody tr th:only-of-type {\n",
              "        vertical-align: middle;\n",
              "    }\n",
              "\n",
              "    .dataframe tbody tr th {\n",
              "        vertical-align: top;\n",
              "    }\n",
              "\n",
              "    .dataframe thead th {\n",
              "        text-align: right;\n",
              "    }\n",
              "</style>\n",
              "<table border=\"1\" class=\"dataframe\">\n",
              "  <thead>\n",
              "    <tr style=\"text-align: right;\">\n",
              "      <th></th>\n",
              "      <th>Diet</th>\n",
              "      <th>dec_weight</th>\n",
              "    </tr>\n",
              "    <tr>\n",
              "      <th>Person</th>\n",
              "      <th></th>\n",
              "      <th></th>\n",
              "    </tr>\n",
              "  </thead>\n",
              "  <tbody>\n",
              "    <tr>\n",
              "      <th>1</th>\n",
              "      <td>1</td>\n",
              "      <td>3.8</td>\n",
              "    </tr>\n",
              "    <tr>\n",
              "      <th>2</th>\n",
              "      <td>1</td>\n",
              "      <td>6.0</td>\n",
              "    </tr>\n",
              "    <tr>\n",
              "      <th>3</th>\n",
              "      <td>1</td>\n",
              "      <td>0.7</td>\n",
              "    </tr>\n",
              "    <tr>\n",
              "      <th>4</th>\n",
              "      <td>1</td>\n",
              "      <td>2.9</td>\n",
              "    </tr>\n",
              "    <tr>\n",
              "      <th>5</th>\n",
              "      <td>1</td>\n",
              "      <td>2.8</td>\n",
              "    </tr>\n",
              "    <tr>\n",
              "      <th>...</th>\n",
              "      <td>...</td>\n",
              "      <td>...</td>\n",
              "    </tr>\n",
              "    <tr>\n",
              "      <th>74</th>\n",
              "      <td>3</td>\n",
              "      <td>2.8</td>\n",
              "    </tr>\n",
              "    <tr>\n",
              "      <th>75</th>\n",
              "      <td>3</td>\n",
              "      <td>4.1</td>\n",
              "    </tr>\n",
              "    <tr>\n",
              "      <th>76</th>\n",
              "      <td>3</td>\n",
              "      <td>5.3</td>\n",
              "    </tr>\n",
              "    <tr>\n",
              "      <th>77</th>\n",
              "      <td>3</td>\n",
              "      <td>9.2</td>\n",
              "    </tr>\n",
              "    <tr>\n",
              "      <th>78</th>\n",
              "      <td>3</td>\n",
              "      <td>6.1</td>\n",
              "    </tr>\n",
              "  </tbody>\n",
              "</table>\n",
              "<p>78 rows × 2 columns</p>\n",
              "</div>"
            ],
            "text/plain": [
              "        Diet  dec_weight\n",
              "Person                  \n",
              "1          1         3.8\n",
              "2          1         6.0\n",
              "3          1         0.7\n",
              "4          1         2.9\n",
              "5          1         2.8\n",
              "...      ...         ...\n",
              "74         3         2.8\n",
              "75         3         4.1\n",
              "76         3         5.3\n",
              "77         3         9.2\n",
              "78         3         6.1\n",
              "\n",
              "[78 rows x 2 columns]"
            ]
          },
          "metadata": {
            "tags": []
          },
          "execution_count": 9
        }
      ]
    },
    {
      "cell_type": "code",
      "metadata": {
        "id": "eMcNZJr5pF3O"
      },
      "source": [
        "\n",
        "# Lấy index đã phân loại\n",
        "\n",
        "diet = data4.groupby('Diet').groups"
      ],
      "execution_count": 10,
      "outputs": []
    },
    {
      "cell_type": "code",
      "metadata": {
        "id": "MsWawwFbpIUm"
      },
      "source": [
        "# Lấy giá trị tương ứng ở cột des_weight \n",
        "\n",
        "type_1 = dec_w[diet[1]]\n",
        "type_2 = dec_w[diet[2]]\n",
        "type_3 = dec_w[diet[3]]"
      ],
      "execution_count": 11,
      "outputs": []
    },
    {
      "cell_type": "code",
      "metadata": {
        "colab": {
          "base_uri": "https://localhost:8080/"
        },
        "id": "xI2DYEJnsO4Q",
        "outputId": "20fd38c9-0ca1-4d13-9600-09fba180c51e"
      },
      "source": [
        "# kiểm tra mỗi nhóm có phân phối chuẩn chưa\n",
        "# Loại 1\n",
        "'''Phát biểu giả thuyết:\n",
        "Mẫu tuân theo phân phối chuẩn\n",
        "Mẫu không tuân theo phân phối chuẩn\n",
        "'''\n",
        "stat_type_1, p_type_1 = stats.shapiro(type_1)\n",
        "if p_type_1 > 0.05:\n",
        "    print('Không thể bác bỏ giả thiết H0: Phân phối của dữ liệu là chuẩn')\n",
        "    print('Đủ điều kiện để phân tích tiếp')\n",
        "else:\n",
        "    print('Dữ liệu không tuân theo luật phân phối chuẩn')"
      ],
      "execution_count": 13,
      "outputs": [
        {
          "output_type": "stream",
          "text": [
            "Không thể bác bỏ giả thiết H0: Phân phối của dữ liệu là chuẩn\n",
            "Đủ điều kiện để phân tích tiếp\n"
          ],
          "name": "stdout"
        }
      ]
    },
    {
      "cell_type": "code",
      "metadata": {
        "colab": {
          "base_uri": "https://localhost:8080/"
        },
        "id": "Hd0g_T3GvLQ5",
        "outputId": "23d7e04f-ade2-4e13-c0e0-ca539997a614"
      },
      "source": [
        "stat_type_2, p_type_2 = stats.shapiro(type_2)\n",
        "if p_type_2 > 0.05:\n",
        "    print('Không thể bác bỏ giả thiết H0: Phân phối của dữ liệu là chuẩn')\n",
        "    print('Đủ điều kiện để phân tích tiếp')\n",
        "else:\n",
        "    print('Dữ liệu không tuân theo luật phân phối chuẩn')"
      ],
      "execution_count": 14,
      "outputs": [
        {
          "output_type": "stream",
          "text": [
            "Không thể bác bỏ giả thiết H0: Phân phối của dữ liệu là chuẩn\n",
            "Đủ điều kiện để phân tích tiếp\n"
          ],
          "name": "stdout"
        }
      ]
    },
    {
      "cell_type": "code",
      "metadata": {
        "colab": {
          "base_uri": "https://localhost:8080/"
        },
        "id": "uSI65nlivXU3",
        "outputId": "5db5ec52-e7e7-4264-929d-744b0d29e7fb"
      },
      "source": [
        "# Kiểm tra Type_3\n",
        "\n",
        "stat_type_3, p_type_3 = stats.shapiro(type_3)\n",
        "if p_type_3 > 0.05:\n",
        "    print('Không thể bác bỏ giả thiết H0: Phân phối của dữ liệu là chuẩn')\n",
        "    print('Đủ điều kiện để phân tích tiếp')\n",
        "else:\n",
        "    print('Dữ liệu không tuân theo luật phân phối chuẩn')"
      ],
      "execution_count": 18,
      "outputs": [
        {
          "output_type": "stream",
          "text": [
            "Không thể bác bỏ giả thiết H0: Phân phối của dữ liệu là chuẩn\n",
            "Đủ điều kiện để phân tích tiếp\n"
          ],
          "name": "stdout"
        }
      ]
    },
    {
      "cell_type": "code",
      "metadata": {
        "id": "PMYBZFUrwekh"
      },
      "source": [
        "# Kiểm định phương sai\n",
        "'''Phát biểu giả thuyết:\n",
        "H0:Mẫu có phương sai đồng nhất\n",
        "H1:Mẫu không có phương sai đồng nhất\n",
        "'''\n"
      ],
      "execution_count": null,
      "outputs": []
    }
  ]
}